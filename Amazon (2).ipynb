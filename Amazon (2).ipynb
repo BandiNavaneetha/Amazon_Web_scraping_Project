{
 "cells": [
  {
   "cell_type": "code",
   "execution_count": 1,
   "id": "83c5eb86",
   "metadata": {},
   "outputs": [],
   "source": [
    "import requests\n",
    "from scrapy import Selector\n",
    "import pandas as pd\n",
    "from selenium import webdriver\n",
    "from selenium.webdriver.common.keys import Keys\n",
    "from selenium.webdriver.common.by import By\n",
    "import time\n",
    "from tqdm import tqdm"
   ]
  },
  {
   "cell_type": "code",
   "execution_count": 2,
   "id": "6004c3d2",
   "metadata": {},
   "outputs": [
    {
     "name": "stderr",
     "output_type": "stream",
     "text": [
      "C:\\Users\\DELL\\AppData\\Local\\Temp\\ipykernel_16560\\1707358220.py:2: DeprecationWarning: executable_path has been deprecated, please pass in a Service object\n",
      "  driver = webdriver.Chrome('./chromedriver.exe')\n"
     ]
    }
   ],
   "source": [
    "url = 'https://www.amazon.in/s?k=bags&crid=2M096C61O4MLT&qid=1653308124&sprefix=ba%2Caps%2C283&ref=sr_pg_1'\n",
    "driver = webdriver.Chrome('./chromedriver.exe')\n",
    "driver.get(url)"
   ]
  },
  {
   "cell_type": "code",
   "execution_count": 3,
   "id": "2b970749",
   "metadata": {},
   "outputs": [
    {
     "name": "stderr",
     "output_type": "stream",
     "text": [
      "100%|█████████████████████████████████████████████████████████████████████████████████| 19/19 [39:43<00:00, 125.47s/it]\n"
     ]
    }
   ],
   "source": [
    "Products = {'URL':[],'Name':[],'Price':[],'Rating':[],'Reviews':[],'Description':[],'ASIN':[],'Manufecturer':[]}\n",
    "for i in tqdm(range(1,20)):\n",
    "    sel = Selector(text=driver.page_source)\n",
    "    links = ['https://www.amazon.in/'+i.xpath('.//a[@class=\"a-link-normal s-underline-text s-underline-link-text s-link-style a-text-normal\"]/@href').extract_first() for i in sel.xpath('//div[@data-component-type=\"s-search-result\"]') if i.xpath('.//span[@class=\"a-color-base\"]/text()').extract_first()!='Sponsored']\n",
    "    driver.execute_script(\"window.open('');\")\n",
    "    driver.switch_to.window(driver.window_handles[1])\n",
    "    for l in links:\n",
    "        driver.get(l)\n",
    "        time.sleep(1)\n",
    "        sel2 = Selector(text=driver.page_source)\n",
    "        Products['URL'].append(l) # Product Url\n",
    "        Products['Name'].append(sel2.xpath('//span[@id=\"productTitle\"]/text()').extract_first()) # Product Name\n",
    "        Products['Price'].append(sel2.xpath('//span[@class=\"a-price-whole\"]/text()').extract_first()) # Product Price\n",
    "        Products['Rating'].append(sel2.xpath('//span[@class=\"a-icon-alt\"]/text()').extract_first()) # Rating\n",
    "        Products['Reviews'].append(sel2.xpath('//span[@id=\"acrCustomerReviewText\"]/text()').extract_first()) # Number of Reviews\n",
    "        Products['Description'].append(''.join(sel2.xpath('.//ul[@class=\"a-unordered-list a-vertical a-spacing-mini\"]//text()').extract()))\n",
    "        Products['ASIN'].append(sel2.xpath('//th[contains(text(),\"ASIN\")]/following-sibling::td/text()').extract_first())\n",
    "        Products['Manufecturer'].append(sel2.xpath('//div[@id=\"merchant-info\"]/a/span/text()').extract_first())\n",
    "    driver.close()\n",
    "    driver.switch_to.window(driver.window_handles[0])\n",
    "    driver.find_element('xpath','//a[contains(text(),\"Next\")]').click()\n",
    "    time.sleep(2)"
   ]
  },
  {
   "cell_type": "code",
   "execution_count": 4,
   "id": "fd538671",
   "metadata": {},
   "outputs": [],
   "source": [
    "df = pd.DataFrame(Products)"
   ]
  },
  {
   "cell_type": "code",
   "execution_count": 5,
   "id": "0622f5f1",
   "metadata": {},
   "outputs": [
    {
     "name": "stderr",
     "output_type": "stream",
     "text": [
      "C:\\Users\\DELL\\AppData\\Local\\Temp\\ipykernel_16560\\1145593625.py:1: FutureWarning: The default value of regex will change from True to False in a future version. In addition, single character regular expressions will *not* be treated as literal strings when regex=True.\n",
      "  df['Reviews'] = df['Reviews'].str.replace('(','').str.replace(')','')\n"
     ]
    }
   ],
   "source": [
    "df['Reviews'] = df['Reviews'].str.replace('(','').str.replace(')','')"
   ]
  },
  {
   "cell_type": "code",
   "execution_count": 6,
   "id": "f5a8c9b2",
   "metadata": {},
   "outputs": [],
   "source": [
    "df.to_csv('Products.csv',index=False)"
   ]
  }
 ],
 "metadata": {
  "kernelspec": {
   "display_name": "Python 3 (ipykernel)",
   "language": "python",
   "name": "python3"
  },
  "language_info": {
   "codemirror_mode": {
    "name": "ipython",
    "version": 3
   },
   "file_extension": ".py",
   "mimetype": "text/x-python",
   "name": "python",
   "nbconvert_exporter": "python",
   "pygments_lexer": "ipython3",
   "version": "3.9.12"
  }
 },
 "nbformat": 4,
 "nbformat_minor": 5
}
